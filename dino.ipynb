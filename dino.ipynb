{
 "cells": [
  {
   "cell_type": "code",
   "execution_count": null,
   "id": "afc5b4b7",
   "metadata": {},
   "outputs": [],
   "source": [
    "#Install the required libraries\n"
   ]
  },
  {
   "cell_type": "markdown",
   "id": "5731fe25",
   "metadata": {},
   "source": [
    "# 1. Import the required library"
   ]
  },
  {
   "cell_type": "code",
   "execution_count": null,
   "id": "96e9aa66",
   "metadata": {},
   "outputs": [],
   "source": [
    "# import libraries\n"
   ]
  },
  {
   "cell_type": "markdown",
   "id": "9e56ae6c",
   "metadata": {},
   "source": [
    "# 2. Detect the screen position"
   ]
  },
  {
   "cell_type": "code",
   "execution_count": null,
   "id": "4eecfdce",
   "metadata": {},
   "outputs": [],
   "source": [
    "#detect the screen position (left, top, right, bottom)\n"
   ]
  },
  {
   "cell_type": "markdown",
   "id": "67d85c5b",
   "metadata": {},
   "source": [
    "# 3. Verify the Detection Region"
   ]
  },
  {
   "cell_type": "code",
   "execution_count": null,
   "id": "2b24992d",
   "metadata": {},
   "outputs": [],
   "source": [
    "#Input the left, top, right, bottom values into the box\n",
    "\n",
    "box = (195,400,266,449) # Update the values based on the above analysis\n",
    "\n",
    "#capture a jpg for verification\n",
    "\n"
   ]
  },
  {
   "cell_type": "markdown",
   "id": "9df7409d",
   "metadata": {},
   "source": [
    "# 4. Define the Jump Function"
   ]
  },
  {
   "cell_type": "code",
   "execution_count": null,
   "id": "e11b1dd7",
   "metadata": {},
   "outputs": [],
   "source": [
    "#Define the jump function\n",
    "\n"
   ]
  },
  {
   "cell_type": "markdown",
   "id": "1150cc44",
   "metadata": {},
   "source": [
    "# 5. Detect the obstacle"
   ]
  },
  {
   "cell_type": "code",
   "execution_count": null,
   "id": "7a1e4363",
   "metadata": {},
   "outputs": [],
   "source": [
    "#Define the obstacle detection function\n"
   ]
  },
  {
   "cell_type": "markdown",
   "id": "3da2f3e3",
   "metadata": {},
   "source": [
    "# 6. Main Program - Detect Obstacble and Jump"
   ]
  },
  {
   "cell_type": "code",
   "execution_count": null,
   "id": "3b11674c",
   "metadata": {},
   "outputs": [],
   "source": [
    "# Main function, Once detect the obstacle then perform jump\n",
    "# Countdown 3s to give time to switch to game window\n",
    "\n"
   ]
  }
 ],
 "metadata": {
  "kernelspec": {
   "display_name": ".venv",
   "language": "python",
   "name": "python3"
  },
  "language_info": {
   "codemirror_mode": {
    "name": "ipython",
    "version": 3
   },
   "file_extension": ".py",
   "mimetype": "text/x-python",
   "name": "python",
   "nbconvert_exporter": "python",
   "pygments_lexer": "ipython3",
   "version": "3.11.4"
  }
 },
 "nbformat": 4,
 "nbformat_minor": 5
}
